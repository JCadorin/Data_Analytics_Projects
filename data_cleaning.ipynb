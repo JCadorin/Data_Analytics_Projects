{
 "cells": [
  {
   "cell_type": "markdown",
   "id": "1a89f90b",
   "metadata": {},
   "source": [
    "# Import packages"
   ]
  },
  {
   "cell_type": "code",
   "execution_count": 3,
   "id": "ccbf305e",
   "metadata": {},
   "outputs": [],
   "source": [
    "import pandas as pd\n",
    "import datetime\n",
    "import matplotlib.pyplot as plt\n",
    "import numpy as np"
   ]
  },
  {
   "cell_type": "markdown",
   "id": "2dad5835",
   "metadata": {},
   "source": [
    "### Importing data"
   ]
  },
  {
   "cell_type": "code",
   "execution_count": 4,
   "id": "e932ca9e",
   "metadata": {},
   "outputs": [],
   "source": [
    "# assign dataset names\n",
    "datasets = ['202208-divvy-tripdata','202207-divvy-tripdata','202206-divvy-tripdata',\n",
    "            '202205-divvy-tripdata','202204-divvy-tripdata','202203-divvy-tripdata',\n",
    "            '202202-divvy-tripdata','202201-divvy-tripdata','202112-divvy-tripdata',\n",
    "            '202111-divvy-tripdata','202110-divvy-tripdata','202109-divvy-tripdata']\n",
    "            \n",
    "df_list = []\n",
    " \n",
    "# append datasets into the list\n",
    "for i in range(len(datasets)):\n",
    "    temp_df = pd.read_csv(datasets[i]+\".csv\")\n",
    "    df_list.append(temp_df)"
   ]
  },
  {
   "cell_type": "markdown",
   "id": "2a1c199c",
   "metadata": {},
   "source": [
    "###  Merge all dataset"
   ]
  },
  {
   "cell_type": "markdown",
   "id": "67756887",
   "metadata": {},
   "source": [
    "Creating a new dataframe with all data also can help the process to be more quick"
   ]
  },
  {
   "cell_type": "code",
   "execution_count": 5,
   "id": "f0f2880b",
   "metadata": {},
   "outputs": [],
   "source": [
    "# Merged all monthly dataset into one\n",
    "year_df = pd.concat(df_list)"
   ]
  },
  {
   "cell_type": "code",
   "execution_count": 6,
   "id": "4075abb3",
   "metadata": {},
   "outputs": [
    {
     "name": "stdout",
     "output_type": "stream",
     "text": [
      "<class 'pandas.core.frame.DataFrame'>\n",
      "Int64Index: 5883043 entries, 0 to 756146\n",
      "Data columns (total 13 columns):\n",
      " #   Column              Dtype  \n",
      "---  ------              -----  \n",
      " 0   ride_id             object \n",
      " 1   rideable_type       object \n",
      " 2   started_at          object \n",
      " 3   ended_at            object \n",
      " 4   start_station_name  object \n",
      " 5   start_station_id    object \n",
      " 6   end_station_name    object \n",
      " 7   end_station_id      object \n",
      " 8   start_lat           float64\n",
      " 9   start_lng           float64\n",
      " 10  end_lat             float64\n",
      " 11  end_lng             float64\n",
      " 12  member_casual       object \n",
      "dtypes: float64(4), object(9)\n",
      "memory usage: 3.6 GB\n"
     ]
    }
   ],
   "source": [
    "year_df.info(memory_usage = 'deep')"
   ]
  },
  {
   "cell_type": "markdown",
   "id": "e61113bd",
   "metadata": {},
   "source": [
    "### Reducing file size"
   ]
  },
  {
   "cell_type": "markdown",
   "id": "c50b8375",
   "metadata": {},
   "source": [
    "The memory usage had a huge increase compared to the csv file. This problem is caused by the objects data type in some of columns, due the fact there's mutiple datatypes sharing the same column. \n",
    " - For now, we can see the column \"member_casual\" and \"rideable_type\" can fit better as a category data type, due the fact there's a limited possibility of value. \n",
    " - We also can modify the ids data type into a more efficient format"
   ]
  },
  {
   "cell_type": "code",
   "execution_count": 7,
   "id": "60fbe430",
   "metadata": {},
   "outputs": [],
   "source": [
    "year_df['rideable_type'] = year_df['rideable_type'].astype('category')\n",
    "year_df['member_casual'] = year_df['member_casual'].astype('category')"
   ]
  },
  {
   "cell_type": "code",
   "execution_count": 8,
   "id": "95873ca0",
   "metadata": {},
   "outputs": [
    {
     "name": "stdout",
     "output_type": "stream",
     "text": [
      "<class 'pandas.core.frame.DataFrame'>\n",
      "Int64Index: 5883043 entries, 0 to 756146\n",
      "Data columns (total 13 columns):\n",
      " #   Column              Dtype   \n",
      "---  ------              -----   \n",
      " 0   ride_id             object  \n",
      " 1   rideable_type       category\n",
      " 2   started_at          object  \n",
      " 3   ended_at            object  \n",
      " 4   start_station_name  object  \n",
      " 5   start_station_id    object  \n",
      " 6   end_station_name    object  \n",
      " 7   end_station_id      object  \n",
      " 8   start_lat           float64 \n",
      " 9   start_lng           float64 \n",
      " 10  end_lat             float64 \n",
      " 11  end_lng             float64 \n",
      " 12  member_casual       category\n",
      "dtypes: category(2), float64(4), object(7)\n",
      "memory usage: 2.9 GB\n"
     ]
    }
   ],
   "source": [
    "year_df.info(memory_usage = 'deep')"
   ]
  },
  {
   "cell_type": "markdown",
   "id": "31b3cd8b",
   "metadata": {},
   "source": [
    "Our memory usage had a good decrease."
   ]
  },
  {
   "cell_type": "markdown",
   "id": "d3dc6cd0",
   "metadata": {},
   "source": [
    "### Check for duplicate values"
   ]
  },
  {
   "cell_type": "code",
   "execution_count": 9,
   "id": "c6d058a5",
   "metadata": {},
   "outputs": [
    {
     "data": {
      "text/plain": [
       "ride_id               5883043\n",
       "rideable_type         5883043\n",
       "started_at            5883043\n",
       "ended_at              5883043\n",
       "start_station_name    4998678\n",
       "start_station_id      4998680\n",
       "end_station_name      4936740\n",
       "end_station_id        4936740\n",
       "start_lat             5883043\n",
       "start_lng             5883043\n",
       "end_lat               5877316\n",
       "end_lng               5877316\n",
       "member_casual         5883043\n",
       "dtype: int64"
      ]
     },
     "execution_count": 9,
     "metadata": {},
     "output_type": "execute_result"
    }
   ],
   "source": [
    "year_df.count()"
   ]
  },
  {
   "cell_type": "code",
   "execution_count": 10,
   "id": "1627a961",
   "metadata": {},
   "outputs": [
    {
     "name": "stdout",
     "output_type": "stream",
     "text": [
      "ride_id: 5883043\n",
      "rideable_type: 3\n",
      "started_at: 4912339\n",
      "ended_at: 4919944\n",
      "start_station_name: 1438\n",
      "start_station_id: 1272\n",
      "end_station_name: 1452\n",
      "end_station_id: 1281\n",
      "start_lat: 569819\n",
      "start_lng: 541128\n",
      "end_lat: 281345\n",
      "end_lng: 264402\n",
      "member_casual: 2\n"
     ]
    }
   ],
   "source": [
    "for i in year_df.columns:\n",
    "    print(f\"{i}: {year_df[i].nunique()}\")"
   ]
  },
  {
   "cell_type": "markdown",
   "id": "3a8e14c0",
   "metadata": {},
   "source": [
    "Seeing the unique values in comparison to the total count of the dataset, we can see our ride_id is pretty unique, but we have some inconsistency in the \"station name\" and the \"station id\",\n",
    "- start_station_name: 1438\n",
    "- start_station_id: 1272  \n",
    "  \n",
    "- end_station_name: 1452\n",
    "- end_station_id: 1281  \n",
    "  \n",
    "Let's do a further analysis to see what is causing this difference."
   ]
  },
  {
   "cell_type": "code",
   "execution_count": 11,
   "id": "6518c063",
   "metadata": {
    "scrolled": true
   },
   "outputs": [
    {
     "name": "stdout",
     "output_type": "stream",
     "text": [
      "Number of station IDs with more than one name associated with it: 697\n"
     ]
    },
    {
     "data": {
      "text/plain": [
       "id     station_name                                 \n",
       "13053  Green St & Randolph St                           11658\n",
       "       Green St & Washington Blvd                        1221\n",
       "13059  Bissell St & Armitage Ave                        13296\n",
       "       Sheridan Rd & Argyle St                           1471\n",
       "13099  Halsted St & 18th St                              2877\n",
       "       Halsted St & 18th St (Temp)                       1316\n",
       "15541  Buckingham Fountain                               7675\n",
       "       Buckingham Fountain (Temp)                        2437\n",
       "303    Kildare Ave & Division St                          113\n",
       "       Public Rack - Kildare Ave & Division St             44\n",
       "444    N Shore Channel Trail & Argyle Ave                  11\n",
       "       N Shore Channel Trail & Argyle St                  571\n",
       "478    California Ave & Touhy Ave - SW                      1\n",
       "       Public Rack - California Ave & Touhy Ave - SW        3\n",
       "479    California Ave & Touhy Ave - NW                     14\n",
       "       Public Rack - California Ave & Touhy Ave - NW       34\n",
       "480    Public Rack - Rockwell Ave & Touhy Ave              53\n",
       "       Rockwell Ave & Touhy Ave                            19\n",
       "481    Chase Ave & Touhy Ave - NW                           4\n",
       "       Public Rack - Chase Ave & Touhy Ave - NW            10\n",
       "dtype: int64"
      ]
     },
     "execution_count": 11,
     "metadata": {},
     "output_type": "execute_result"
    }
   ],
   "source": [
    "def get_inconsistent_ids_series() -> pd.Series:\n",
    "    \"\"\"Get a pandas series of stations sharing the same ID and their value counts\"\"\"\n",
    "    start_ids_sr = year_df.groupby(['start_station_id','start_station_name']).size().rename_axis(index={'start_station_id': 'id', 'start_station_name': 'station_name'})\n",
    "    end_ids_sr = year_df.groupby(['end_station_id','end_station_name']).size().rename_axis(index={'end_station_id': 'id', 'end_station_name': 'station_name'})\n",
    "\n",
    "    vc1 = start_ids_sr.reset_index()['id'].value_counts()\n",
    "    vc2 = end_ids_sr.reset_index()['id'].value_counts()\n",
    "\n",
    "    start_ids_with_many_names = vc1[vc1 > 1].index\n",
    "    end_ids_with_many_names = vc2[vc2 > 1].index\n",
    "\n",
    "    start_mask = start_ids_sr.index.get_level_values(0).isin(start_ids_with_many_names)\n",
    "    start_ids_sr[start_mask]\n",
    "    end_mask = end_ids_sr.index.get_level_values(0).isin(end_ids_with_many_names)\n",
    "    end_ids_sr[end_mask]\n",
    "\n",
    "    return pd.concat([start_ids_sr[start_mask], end_ids_sr[end_mask]], axis = 0)\n",
    "\n",
    "inconsistent_ids_series = get_inconsistent_ids_series()\n",
    "print(\"Number of station IDs with more than one name associated with it:\", len(inconsistent_ids_series))\n",
    "inconsistent_ids_series.head(20)"
   ]
  },
  {
   "cell_type": "markdown",
   "id": "ce2d9cd1",
   "metadata": {},
   "source": [
    "We see all the station's name is very similar when they share the same id, but with some variation probably caused by the influence of renaming, relocation and other events. We can stay this as it is and move on assuming is not an error caused by wrong data collected. "
   ]
  },
  {
   "cell_type": "markdown",
   "id": "1dfa1b50",
   "metadata": {},
   "source": [
    "###  Null values check"
   ]
  },
  {
   "cell_type": "code",
   "execution_count": 12,
   "id": "881059ba",
   "metadata": {},
   "outputs": [
    {
     "data": {
      "text/plain": [
       "ride_id                    0\n",
       "rideable_type              0\n",
       "started_at                 0\n",
       "ended_at                   0\n",
       "start_station_name    884365\n",
       "start_station_id      884363\n",
       "end_station_name      946303\n",
       "end_station_id        946303\n",
       "start_lat                  0\n",
       "start_lng                  0\n",
       "end_lat                 5727\n",
       "end_lng                 5727\n",
       "member_casual              0\n",
       "dtype: int64"
      ]
     },
     "execution_count": 12,
     "metadata": {},
     "output_type": "execute_result"
    }
   ],
   "source": [
    "#checking null values\n",
    "year_df.isnull().sum()"
   ]
  },
  {
   "cell_type": "markdown",
   "id": "abd88384",
   "metadata": {},
   "source": [
    "All the missing values was found in the station identifiers, we can use the latitude and longitude of matching rows to see if we can find the missing values in the name and id stations."
   ]
  },
  {
   "cell_type": "code",
   "execution_count": 13,
   "id": "9c7a3209",
   "metadata": {},
   "outputs": [],
   "source": [
    "# assigning the null values using the matches latitutde and longitude of other rows\n",
    "year_df['start_station_name'] = year_df.groupby(['start_lat','start_lng'], sort=False).bfill()['start_station_name']\n",
    "year_df['start_station_id'] = year_df.groupby(['start_station_name','start_lat','start_lng'], sort=False).bfill()['start_station_id']\n",
    "year_df['end_station_name'] = year_df.groupby(['end_lat','end_lng'], sort=False).bfill()['end_station_name']\n",
    "year_df['end_station_id'] = year_df.groupby(['end_station_name','end_lat','end_lng'], sort=False).bfill()['end_station_id']\n",
    "\n"
   ]
  },
  {
   "cell_type": "code",
   "execution_count": 14,
   "id": "2f15c834",
   "metadata": {},
   "outputs": [
    {
     "data": {
      "text/plain": [
       "ride_id                    0\n",
       "rideable_type              0\n",
       "started_at                 0\n",
       "ended_at                   0\n",
       "start_station_name    636530\n",
       "start_station_id      636530\n",
       "end_station_name      712590\n",
       "end_station_id        712590\n",
       "start_lat                  0\n",
       "start_lng                  0\n",
       "end_lat                 5727\n",
       "end_lng                 5727\n",
       "member_casual              0\n",
       "dtype: int64"
      ]
     },
     "execution_count": 14,
     "metadata": {},
     "output_type": "execute_result"
    }
   ],
   "source": [
    "#checking null values\n",
    "year_df.isnull().sum()"
   ]
  },
  {
   "cell_type": "markdown",
   "id": "75799da6",
   "metadata": {},
   "source": [
    "We filled amost 250k of missing values in each column, and now we have around 10% of data being missed in the dataset, \n",
    "There's no other way to fill the missing values with reliable information, so the better option here is to drop all rows\n",
    "with missing value."
   ]
  },
  {
   "cell_type": "code",
   "execution_count": 15,
   "id": "3f78ea86",
   "metadata": {},
   "outputs": [
    {
     "data": {
      "text/plain": [
       "array(['2022-03-24 11:02:20', '2022-05-11 18:29:21',\n",
       "       '2022-06-25 13:41:36', '2022-06-29 19:14:07',\n",
       "       '2022-05-04 07:01:29', '2022-05-26 12:10:25',\n",
       "       '2022-06-24 18:41:51', '2022-03-10 17:08:56',\n",
       "       '2021-10-21 16:59:14', '2021-09-08 19:26:55',\n",
       "       '2021-09-18 20:22:33', '2022-04-15 23:23:13',\n",
       "       '2021-09-01 16:51:42', '2021-09-26 17:20:28',\n",
       "       '2022-08-20 13:56:10', '2021-09-17 14:46:16',\n",
       "       '2021-09-23 11:59:23', '2022-04-19 14:13:46',\n",
       "       '2022-07-31 21:30:16', '2021-11-05 19:44:36',\n",
       "       '2021-09-05 18:49:04', '2021-09-03 11:31:06',\n",
       "       '2021-09-13 16:52:21', '2022-07-01 14:18:43',\n",
       "       '2022-07-31 10:34:39', '2022-05-31 17:52:23',\n",
       "       '2022-07-23 14:08:58', '2021-12-11 12:45:50',\n",
       "       '2021-11-27 18:48:21', '2021-10-10 14:56:46',\n",
       "       '2021-12-19 19:12:41', '2022-04-15 19:21:07',\n",
       "       '2022-04-01 00:49:36', '2022-05-13 22:33:41',\n",
       "       '2022-08-18 20:13:53', '2021-12-29 16:20:57',\n",
       "       '2022-07-11 19:23:07', '2022-07-01 18:07:42',\n",
       "       '2022-06-19 19:12:47', '2022-07-10 00:06:09',\n",
       "       '2022-03-21 13:36:06', '2022-07-30 12:05:11',\n",
       "       '2022-08-21 13:49:05', '2022-06-19 13:28:56',\n",
       "       '2022-07-13 20:40:04', '2022-08-30 07:26:44',\n",
       "       '2021-10-31 17:43:38', '2021-10-31 16:09:28',\n",
       "       '2021-12-12 10:50:23', '2021-10-21 22:54:42'], dtype=object)"
      ]
     },
     "execution_count": 15,
     "metadata": {},
     "output_type": "execute_result"
    }
   ],
   "source": [
    "#collect a sample from the null values group to see if there's a pattern or is made with random rows\n",
    "unique_sample_confirmation = year_df[year_df['start_station_name'].isna()].sample(50)\n",
    "unique_sample_confirmation['started_at'].unique()"
   ]
  },
  {
   "cell_type": "markdown",
   "id": "180d14c3",
   "metadata": {},
   "source": [
    "We confirm the missing is not bias and drop them will not influence the conclusion."
   ]
  },
  {
   "cell_type": "code",
   "execution_count": 16,
   "id": "82b4c7f3",
   "metadata": {},
   "outputs": [],
   "source": [
    "year_df = year_df.dropna()"
   ]
  },
  {
   "cell_type": "code",
   "execution_count": 17,
   "id": "115b51f1",
   "metadata": {},
   "outputs": [
    {
     "data": {
      "text/plain": [
       "ride_id               0\n",
       "rideable_type         0\n",
       "started_at            0\n",
       "ended_at              0\n",
       "start_station_name    0\n",
       "start_station_id      0\n",
       "end_station_name      0\n",
       "end_station_id        0\n",
       "start_lat             0\n",
       "start_lng             0\n",
       "end_lat               0\n",
       "end_lng               0\n",
       "member_casual         0\n",
       "dtype: int64"
      ]
     },
     "execution_count": 17,
     "metadata": {},
     "output_type": "execute_result"
    }
   ],
   "source": [
    "year_df.isnull().sum()"
   ]
  },
  {
   "cell_type": "markdown",
   "id": "79aed319",
   "metadata": {},
   "source": [
    "### Add ride length column"
   ]
  },
  {
   "cell_type": "code",
   "execution_count": 18,
   "id": "0061b509",
   "metadata": {},
   "outputs": [],
   "source": [
    "# add a column to show the ride length\n",
    "year_df['started_at'] = pd.to_datetime(year_df['started_at'], errors='coerce')\n",
    "year_df['ended_at'] = pd.to_datetime(year_df['ended_at'], errors='coerce')\n",
    "year_df['ride_length']= year_df['ended_at'] - year_df['started_at']"
   ]
  },
  {
   "cell_type": "markdown",
   "id": "7c8ad385",
   "metadata": {},
   "source": [
    "### Checking possible negative durations"
   ]
  },
  {
   "cell_type": "code",
   "execution_count": 19,
   "id": "18e5742d",
   "metadata": {},
   "outputs": [
    {
     "name": "stdout",
     "output_type": "stream",
     "text": [
      "Number of rows with negative ride durations: 110\n"
     ]
    }
   ],
   "source": [
    "neg_length = year_df['ride_length'] < pd.Timedelta(\"0 days\")\n",
    "print(\"Number of rows with negative ride durations:\", len(year_df.loc[neg_length]))"
   ]
  },
  {
   "cell_type": "markdown",
   "id": "6a70ebe0",
   "metadata": {},
   "source": [
    "There's some negative ride durations, data was wrongly registered, let's drop these data because it can compromise our conclusions."
   ]
  },
  {
   "cell_type": "code",
   "execution_count": 20,
   "id": "c7fa96eb",
   "metadata": {},
   "outputs": [
    {
     "name": "stdout",
     "output_type": "stream",
     "text": [
      "Number of rows with negative ride durations: 0\n"
     ]
    }
   ],
   "source": [
    "year_df = year_df.loc[~neg_length]\n",
    "neg_length = year_df['ride_length'] < pd.Timedelta(\"0 days\")\n",
    "print(\"Number of rows with negative ride durations:\", len(year_df.loc[neg_length]))"
   ]
  },
  {
   "cell_type": "code",
   "execution_count": 21,
   "id": "9a6a3886",
   "metadata": {},
   "outputs": [],
   "source": [
    "# add a column with the weekday\n",
    "year_df['day_of_week'] = year_df['started_at'].dt.strftime(\"%A\")\n",
    "year_df['weekday_number'] = year_df['started_at'].dt.dayofweek"
   ]
  },
  {
   "cell_type": "code",
   "execution_count": 22,
   "id": "d73b20b7",
   "metadata": {},
   "outputs": [
    {
     "data": {
      "text/plain": [
       "Saturday     801084\n",
       "Sunday       698736\n",
       "Wednesday    693768\n",
       "Thursday     686809\n",
       "Tuesday      672842\n",
       "Friday       668215\n",
       "Monday       634866\n",
       "Name: day_of_week, dtype: int64"
      ]
     },
     "execution_count": 22,
     "metadata": {},
     "output_type": "execute_result"
    }
   ],
   "source": [
    "year_df['day_of_week'].value_counts()"
   ]
  },
  {
   "cell_type": "code",
   "execution_count": 23,
   "id": "3c41313e",
   "metadata": {},
   "outputs": [
    {
     "data": {
      "text/html": [
       "<div>\n",
       "<style scoped>\n",
       "    .dataframe tbody tr th:only-of-type {\n",
       "        vertical-align: middle;\n",
       "    }\n",
       "\n",
       "    .dataframe tbody tr th {\n",
       "        vertical-align: top;\n",
       "    }\n",
       "\n",
       "    .dataframe thead th {\n",
       "        text-align: right;\n",
       "    }\n",
       "</style>\n",
       "<table border=\"1\" class=\"dataframe\">\n",
       "  <thead>\n",
       "    <tr style=\"text-align: right;\">\n",
       "      <th></th>\n",
       "      <th>ride_id</th>\n",
       "      <th>rideable_type</th>\n",
       "      <th>started_at</th>\n",
       "      <th>ended_at</th>\n",
       "      <th>start_station_name</th>\n",
       "      <th>start_station_id</th>\n",
       "      <th>end_station_name</th>\n",
       "      <th>end_station_id</th>\n",
       "      <th>start_lat</th>\n",
       "      <th>start_lng</th>\n",
       "      <th>end_lat</th>\n",
       "      <th>end_lng</th>\n",
       "      <th>member_casual</th>\n",
       "      <th>ride_length</th>\n",
       "      <th>day_of_week</th>\n",
       "      <th>weekday_number</th>\n",
       "    </tr>\n",
       "  </thead>\n",
       "  <tbody>\n",
       "    <tr>\n",
       "      <th>0</th>\n",
       "      <td>550CF7EFEAE0C618</td>\n",
       "      <td>electric_bike</td>\n",
       "      <td>2022-08-07 21:34:15</td>\n",
       "      <td>2022-08-07 21:41:46</td>\n",
       "      <td>Elston Ave &amp; George St</td>\n",
       "      <td>472</td>\n",
       "      <td>Public Rack - Milwaukee Ave &amp; Haussen Ct</td>\n",
       "      <td>505</td>\n",
       "      <td>41.93</td>\n",
       "      <td>-87.69</td>\n",
       "      <td>41.94</td>\n",
       "      <td>-87.72</td>\n",
       "      <td>casual</td>\n",
       "      <td>0 days 00:07:31</td>\n",
       "      <td>Sunday</td>\n",
       "      <td>6</td>\n",
       "    </tr>\n",
       "    <tr>\n",
       "      <th>3</th>\n",
       "      <td>F597830181C2E13C</td>\n",
       "      <td>electric_bike</td>\n",
       "      <td>2022-08-08 02:43:50</td>\n",
       "      <td>2022-08-08 02:58:53</td>\n",
       "      <td>N Sheffield Ave &amp; W Wellington Ave</td>\n",
       "      <td>20256.0</td>\n",
       "      <td>Western Ave &amp; Gunnison St</td>\n",
       "      <td>445</td>\n",
       "      <td>41.94</td>\n",
       "      <td>-87.65</td>\n",
       "      <td>41.97</td>\n",
       "      <td>-87.69</td>\n",
       "      <td>casual</td>\n",
       "      <td>0 days 00:15:03</td>\n",
       "      <td>Monday</td>\n",
       "      <td>0</td>\n",
       "    </tr>\n",
       "    <tr>\n",
       "      <th>5</th>\n",
       "      <td>BFA7E7CC69860C20</td>\n",
       "      <td>electric_bike</td>\n",
       "      <td>2022-08-08 13:06:08</td>\n",
       "      <td>2022-08-08 13:19:09</td>\n",
       "      <td>Komensky Ave &amp; 55th St</td>\n",
       "      <td>347</td>\n",
       "      <td>Rockwell St &amp; Archer Ave</td>\n",
       "      <td>379</td>\n",
       "      <td>41.79</td>\n",
       "      <td>-87.72</td>\n",
       "      <td>41.82</td>\n",
       "      <td>-87.69</td>\n",
       "      <td>casual</td>\n",
       "      <td>0 days 00:13:01</td>\n",
       "      <td>Monday</td>\n",
       "      <td>0</td>\n",
       "    </tr>\n",
       "    <tr>\n",
       "      <th>10</th>\n",
       "      <td>1749361AC24EFB77</td>\n",
       "      <td>electric_bike</td>\n",
       "      <td>2022-08-07 20:32:48</td>\n",
       "      <td>2022-08-07 20:35:38</td>\n",
       "      <td>Wood St &amp; 103rd St</td>\n",
       "      <td>694</td>\n",
       "      <td>Western Ave &amp; 100th St</td>\n",
       "      <td>695</td>\n",
       "      <td>41.71</td>\n",
       "      <td>-87.67</td>\n",
       "      <td>41.71</td>\n",
       "      <td>-87.68</td>\n",
       "      <td>casual</td>\n",
       "      <td>0 days 00:02:50</td>\n",
       "      <td>Sunday</td>\n",
       "      <td>6</td>\n",
       "    </tr>\n",
       "    <tr>\n",
       "      <th>17</th>\n",
       "      <td>7CB3ACA2D8916A84</td>\n",
       "      <td>electric_bike</td>\n",
       "      <td>2022-08-08 15:47:42</td>\n",
       "      <td>2022-08-08 16:05:22</td>\n",
       "      <td>Cottage Grove Ave &amp; 89th Pl</td>\n",
       "      <td>879</td>\n",
       "      <td>Public Rack - Jeffery Blvd &amp; 81st St</td>\n",
       "      <td>944</td>\n",
       "      <td>41.73</td>\n",
       "      <td>-87.60</td>\n",
       "      <td>41.75</td>\n",
       "      <td>-87.58</td>\n",
       "      <td>casual</td>\n",
       "      <td>0 days 00:17:40</td>\n",
       "      <td>Monday</td>\n",
       "      <td>0</td>\n",
       "    </tr>\n",
       "  </tbody>\n",
       "</table>\n",
       "</div>"
      ],
      "text/plain": [
       "             ride_id  rideable_type          started_at            ended_at  \\\n",
       "0   550CF7EFEAE0C618  electric_bike 2022-08-07 21:34:15 2022-08-07 21:41:46   \n",
       "3   F597830181C2E13C  electric_bike 2022-08-08 02:43:50 2022-08-08 02:58:53   \n",
       "5   BFA7E7CC69860C20  electric_bike 2022-08-08 13:06:08 2022-08-08 13:19:09   \n",
       "10  1749361AC24EFB77  electric_bike 2022-08-07 20:32:48 2022-08-07 20:35:38   \n",
       "17  7CB3ACA2D8916A84  electric_bike 2022-08-08 15:47:42 2022-08-08 16:05:22   \n",
       "\n",
       "                    start_station_name start_station_id  \\\n",
       "0               Elston Ave & George St              472   \n",
       "3   N Sheffield Ave & W Wellington Ave          20256.0   \n",
       "5               Komensky Ave & 55th St              347   \n",
       "10                  Wood St & 103rd St              694   \n",
       "17         Cottage Grove Ave & 89th Pl              879   \n",
       "\n",
       "                            end_station_name end_station_id  start_lat  \\\n",
       "0   Public Rack - Milwaukee Ave & Haussen Ct            505      41.93   \n",
       "3                  Western Ave & Gunnison St            445      41.94   \n",
       "5                   Rockwell St & Archer Ave            379      41.79   \n",
       "10                    Western Ave & 100th St            695      41.71   \n",
       "17      Public Rack - Jeffery Blvd & 81st St            944      41.73   \n",
       "\n",
       "    start_lng  end_lat  end_lng member_casual     ride_length day_of_week  \\\n",
       "0      -87.69    41.94   -87.72        casual 0 days 00:07:31      Sunday   \n",
       "3      -87.65    41.97   -87.69        casual 0 days 00:15:03      Monday   \n",
       "5      -87.72    41.82   -87.69        casual 0 days 00:13:01      Monday   \n",
       "10     -87.67    41.71   -87.68        casual 0 days 00:02:50      Sunday   \n",
       "17     -87.60    41.75   -87.58        casual 0 days 00:17:40      Monday   \n",
       "\n",
       "    weekday_number  \n",
       "0                6  \n",
       "3                0  \n",
       "5                0  \n",
       "10               6  \n",
       "17               0  "
      ]
     },
     "execution_count": 23,
     "metadata": {},
     "output_type": "execute_result"
    }
   ],
   "source": [
    "year_df.head()\n"
   ]
  },
  {
   "cell_type": "markdown",
   "id": "e44135be",
   "metadata": {},
   "source": [
    "###  Split annual dataset by user type"
   ]
  },
  {
   "cell_type": "markdown",
   "id": "24169f51",
   "metadata": {},
   "source": [
    "Spliting the dataset divided by the type of member can help us to get more insights bout the trends of each user type."
   ]
  },
  {
   "cell_type": "code",
   "execution_count": 24,
   "id": "b63f19cb",
   "metadata": {},
   "outputs": [],
   "source": [
    "casual_df = year_df.loc[year_df['member_casual']=='casual']\n",
    "member_df = year_df.loc[year_df['member_casual']=='member']"
   ]
  },
  {
   "cell_type": "markdown",
   "id": "a848818d",
   "metadata": {},
   "source": [
    "# Analyzing data"
   ]
  },
  {
   "cell_type": "markdown",
   "id": "b3597080",
   "metadata": {},
   "source": [
    "###  Count of ride by weekday of the last year"
   ]
  },
  {
   "cell_type": "code",
   "execution_count": 25,
   "id": "02e86474",
   "metadata": {},
   "outputs": [
    {
     "data": {
      "text/plain": [
       "Text(0.5, 1.0, '09/2021 to 08/2022')"
      ]
     },
     "execution_count": 25,
     "metadata": {},
     "output_type": "execute_result"
    },
    {
     "data": {
      "image/png": "[encoded data removed]",
      "text/plain": [
       "<Figure size 432x288 with 1 Axes>"
      ]
     },
     "metadata": {
      "needs_background": "light"
     },
     "output_type": "display_data"
    }
   ],
   "source": [
    "# plotting the annual count of rides by week \n",
    "year_df[['weekday_number', 'ride_id', 'day_of_week']].groupby(['weekday_number', 'day_of_week']).count().sort_index().plot(kind='bar', legend=None)\n",
    "\n",
    "plt.title(\"09/2021 to 08/2022\")\n",
    "   "
   ]
  },
  {
   "cell_type": "markdown",
   "id": "11af9b35",
   "metadata": {},
   "source": [
    "###  Count of rides by weekday of each type of user"
   ]
  },
  {
   "cell_type": "code",
   "execution_count": 26,
   "id": "af65caae",
   "metadata": {},
   "outputs": [
    {
     "data": {
      "text/plain": [
       "Text(0.5, 1.0, 'Member usage from 09/2021 to 08/2022')"
      ]
     },
     "execution_count": 26,
     "metadata": {},
     "output_type": "execute_result"
    },
    {
     "data": {
      "image/png": "[encoded data removed]",
      "text/plain": [
       "<Figure size 432x288 with 1 Axes>"
      ]
     },
     "metadata": {
      "needs_background": "light"
     },
     "output_type": "display_data"
    },
    {
     "data": {
      "image/png": "[encoded data removed]",
      "text/plain": [
       "<Figure size 432x288 with 1 Axes>"
      ]
     },
     "metadata": {
      "needs_background": "light"
     },
     "output_type": "display_data"
    }
   ],
   "source": [
    "# plotting the count of rides by weekday of each type of user\n",
    "casual_df[['weekday_number', 'ride_id', 'day_of_week']].groupby(['weekday_number', 'day_of_week']).count().sort_index().plot(kind='bar', legend=None)\n",
    "plt.title(\"Casual usage from 09/2021 to 08/2022\")\n",
    "\n",
    "member_df[['weekday_number', 'ride_id', 'day_of_week']].groupby(['weekday_number', 'day_of_week']).count().sort_index().plot(kind='bar', legend=None)\n",
    "plt.title(\"Member usage from 09/2021 to 08/2022\")\n",
    "\n"
   ]
  },
  {
   "cell_type": "markdown",
   "id": "3308b82c",
   "metadata": {},
   "source": [
    "###  Ride length average in each user type"
   ]
  },
  {
   "cell_type": "code",
   "execution_count": 27,
   "id": "aaf1a991",
   "metadata": {},
   "outputs": [
    {
     "data": {
      "text/html": [
       "<div>\n",
       "<style scoped>\n",
       "    .dataframe tbody tr th:only-of-type {\n",
       "        vertical-align: middle;\n",
       "    }\n",
       "\n",
       "    .dataframe tbody tr th {\n",
       "        vertical-align: top;\n",
       "    }\n",
       "\n",
       "    .dataframe thead th {\n",
       "        text-align: right;\n",
       "    }\n",
       "</style>\n",
       "<table border=\"1\" class=\"dataframe\">\n",
       "  <thead>\n",
       "    <tr style=\"text-align: right;\">\n",
       "      <th></th>\n",
       "      <th>ride_length</th>\n",
       "    </tr>\n",
       "    <tr>\n",
       "      <th>member_casual</th>\n",
       "      <th></th>\n",
       "    </tr>\n",
       "  </thead>\n",
       "  <tbody>\n",
       "    <tr>\n",
       "      <th>casual</th>\n",
       "      <td>0 days 00:25:04.981344226</td>\n",
       "    </tr>\n",
       "    <tr>\n",
       "      <th>member</th>\n",
       "      <td>0 days 00:12:32.693974601</td>\n",
       "    </tr>\n",
       "  </tbody>\n",
       "</table>\n",
       "</div>"
      ],
      "text/plain": [
       "                            ride_length\n",
       "member_casual                          \n",
       "casual        0 days 00:25:04.981344226\n",
       "member        0 days 00:12:32.693974601"
      ]
     },
     "execution_count": 27,
     "metadata": {},
     "output_type": "execute_result"
    }
   ],
   "source": [
    "year_df[['member_casual', 'ride_length']].groupby(['member_casual']).mean()"
   ]
  },
  {
   "cell_type": "markdown",
   "id": "ad289a82",
   "metadata": {},
   "source": [
    "Found the ride lenght mean value of each member type.  \n",
    "Casual member use to do a longer travel than our members."
   ]
  },
  {
   "cell_type": "markdown",
   "id": "16c9f4df",
   "metadata": {},
   "source": [
    "###  The biggest ride length in each user type"
   ]
  },
  {
   "cell_type": "code",
   "execution_count": 28,
   "id": "07acef6c",
   "metadata": {},
   "outputs": [
    {
     "data": {
      "text/html": [
       "<div>\n",
       "<style scoped>\n",
       "    .dataframe tbody tr th:only-of-type {\n",
       "        vertical-align: middle;\n",
       "    }\n",
       "\n",
       "    .dataframe tbody tr th {\n",
       "        vertical-align: top;\n",
       "    }\n",
       "\n",
       "    .dataframe thead th {\n",
       "        text-align: right;\n",
       "    }\n",
       "</style>\n",
       "<table border=\"1\" class=\"dataframe\">\n",
       "  <thead>\n",
       "    <tr style=\"text-align: right;\">\n",
       "      <th></th>\n",
       "      <th>ride_length</th>\n",
       "    </tr>\n",
       "    <tr>\n",
       "      <th>member_casual</th>\n",
       "      <th></th>\n",
       "    </tr>\n",
       "  </thead>\n",
       "  <tbody>\n",
       "    <tr>\n",
       "      <th>casual</th>\n",
       "      <td>28 days 06:25:01</td>\n",
       "    </tr>\n",
       "    <tr>\n",
       "      <th>member</th>\n",
       "      <td>1 days 00:59:54</td>\n",
       "    </tr>\n",
       "  </tbody>\n",
       "</table>\n",
       "</div>"
      ],
      "text/plain": [
       "                   ride_length\n",
       "member_casual                 \n",
       "casual        28 days 06:25:01\n",
       "member         1 days 00:59:54"
      ]
     },
     "execution_count": 28,
     "metadata": {},
     "output_type": "execute_result"
    }
   ],
   "source": [
    "year_df[['member_casual', 'ride_length']].groupby(['member_casual']).max()"
   ]
  },
  {
   "cell_type": "markdown",
   "id": "88421419",
   "metadata": {},
   "source": [
    "###  Average ride length by weekday"
   ]
  },
  {
   "cell_type": "markdown",
   "id": "46ba6d17",
   "metadata": {},
   "source": [
    "### - Casual user "
   ]
  },
  {
   "cell_type": "code",
   "execution_count": 29,
   "id": "07363e5c",
   "metadata": {},
   "outputs": [
    {
     "data": {
      "text/html": [
       "<div>\n",
       "<style scoped>\n",
       "    .dataframe tbody tr th:only-of-type {\n",
       "        vertical-align: middle;\n",
       "    }\n",
       "\n",
       "    .dataframe tbody tr th {\n",
       "        vertical-align: top;\n",
       "    }\n",
       "\n",
       "    .dataframe thead th {\n",
       "        text-align: right;\n",
       "    }\n",
       "</style>\n",
       "<table border=\"1\" class=\"dataframe\">\n",
       "  <thead>\n",
       "    <tr style=\"text-align: right;\">\n",
       "      <th></th>\n",
       "      <th></th>\n",
       "      <th>ride_length</th>\n",
       "    </tr>\n",
       "    <tr>\n",
       "      <th>weekday_number</th>\n",
       "      <th>day_of_week</th>\n",
       "      <th></th>\n",
       "    </tr>\n",
       "  </thead>\n",
       "  <tbody>\n",
       "    <tr>\n",
       "      <th>0</th>\n",
       "      <th>Monday</th>\n",
       "      <td>0 days 00:25:58.504218715</td>\n",
       "    </tr>\n",
       "    <tr>\n",
       "      <th>1</th>\n",
       "      <th>Tuesday</th>\n",
       "      <td>0 days 00:21:56.884655799</td>\n",
       "    </tr>\n",
       "    <tr>\n",
       "      <th>2</th>\n",
       "      <th>Wednesday</th>\n",
       "      <td>0 days 00:21:29.858298508</td>\n",
       "    </tr>\n",
       "    <tr>\n",
       "      <th>3</th>\n",
       "      <th>Thursday</th>\n",
       "      <td>0 days 00:22:09.425344090</td>\n",
       "    </tr>\n",
       "    <tr>\n",
       "      <th>4</th>\n",
       "      <th>Friday</th>\n",
       "      <td>0 days 00:23:21.678896451</td>\n",
       "    </tr>\n",
       "    <tr>\n",
       "      <th>5</th>\n",
       "      <th>Saturday</th>\n",
       "      <td>0 days 00:27:41.234198850</td>\n",
       "    </tr>\n",
       "    <tr>\n",
       "      <th>6</th>\n",
       "      <th>Sunday</th>\n",
       "      <td>0 days 00:29:00.155585401</td>\n",
       "    </tr>\n",
       "  </tbody>\n",
       "</table>\n",
       "</div>"
      ],
      "text/plain": [
       "                                         ride_length\n",
       "weekday_number day_of_week                          \n",
       "0              Monday      0 days 00:25:58.504218715\n",
       "1              Tuesday     0 days 00:21:56.884655799\n",
       "2              Wednesday   0 days 00:21:29.858298508\n",
       "3              Thursday    0 days 00:22:09.425344090\n",
       "4              Friday      0 days 00:23:21.678896451\n",
       "5              Saturday    0 days 00:27:41.234198850\n",
       "6              Sunday      0 days 00:29:00.155585401"
      ]
     },
     "execution_count": 29,
     "metadata": {},
     "output_type": "execute_result"
    }
   ],
   "source": [
    "# ride length average by each day of week\n",
    "casual_df[['weekday_number', 'day_of_week', 'ride_length']].groupby(['weekday_number','day_of_week']).mean().sort_index()"
   ]
  },
  {
   "cell_type": "markdown",
   "id": "4367e53e",
   "metadata": {},
   "source": [
    "### - Member user "
   ]
  },
  {
   "cell_type": "code",
   "execution_count": 30,
   "id": "6bfb6244",
   "metadata": {},
   "outputs": [
    {
     "data": {
      "text/html": [
       "<div>\n",
       "<style scoped>\n",
       "    .dataframe tbody tr th:only-of-type {\n",
       "        vertical-align: middle;\n",
       "    }\n",
       "\n",
       "    .dataframe tbody tr th {\n",
       "        vertical-align: top;\n",
       "    }\n",
       "\n",
       "    .dataframe thead th {\n",
       "        text-align: right;\n",
       "    }\n",
       "</style>\n",
       "<table border=\"1\" class=\"dataframe\">\n",
       "  <thead>\n",
       "    <tr style=\"text-align: right;\">\n",
       "      <th></th>\n",
       "      <th></th>\n",
       "      <th>ride_length</th>\n",
       "    </tr>\n",
       "    <tr>\n",
       "      <th>weekday_number</th>\n",
       "      <th>day_of_week</th>\n",
       "      <th></th>\n",
       "    </tr>\n",
       "  </thead>\n",
       "  <tbody>\n",
       "    <tr>\n",
       "      <th>0</th>\n",
       "      <th>Monday</th>\n",
       "      <td>0 days 00:12:09.626964963</td>\n",
       "    </tr>\n",
       "    <tr>\n",
       "      <th>1</th>\n",
       "      <th>Tuesday</th>\n",
       "      <td>0 days 00:11:49.807387282</td>\n",
       "    </tr>\n",
       "    <tr>\n",
       "      <th>2</th>\n",
       "      <th>Wednesday</th>\n",
       "      <td>0 days 00:11:56.359438892</td>\n",
       "    </tr>\n",
       "    <tr>\n",
       "      <th>3</th>\n",
       "      <th>Thursday</th>\n",
       "      <td>0 days 00:12:03.442484237</td>\n",
       "    </tr>\n",
       "    <tr>\n",
       "      <th>4</th>\n",
       "      <th>Friday</th>\n",
       "      <td>0 days 00:12:16.650273364</td>\n",
       "    </tr>\n",
       "    <tr>\n",
       "      <th>5</th>\n",
       "      <th>Saturday</th>\n",
       "      <td>0 days 00:14:01.231432649</td>\n",
       "    </tr>\n",
       "    <tr>\n",
       "      <th>6</th>\n",
       "      <th>Sunday</th>\n",
       "      <td>0 days 00:14:05.497288118</td>\n",
       "    </tr>\n",
       "  </tbody>\n",
       "</table>\n",
       "</div>"
      ],
      "text/plain": [
       "                                         ride_length\n",
       "weekday_number day_of_week                          \n",
       "0              Monday      0 days 00:12:09.626964963\n",
       "1              Tuesday     0 days 00:11:49.807387282\n",
       "2              Wednesday   0 days 00:11:56.359438892\n",
       "3              Thursday    0 days 00:12:03.442484237\n",
       "4              Friday      0 days 00:12:16.650273364\n",
       "5              Saturday    0 days 00:14:01.231432649\n",
       "6              Sunday      0 days 00:14:05.497288118"
      ]
     },
     "execution_count": 30,
     "metadata": {},
     "output_type": "execute_result"
    }
   ],
   "source": [
    "member_df[['weekday_number', 'day_of_week', 'ride_length']].groupby(['weekday_number', 'day_of_week']).mean().sort_index()\n"
   ]
  },
  {
   "cell_type": "markdown",
   "id": "e4134173",
   "metadata": {},
   "source": [
    "### Count of Rides by month of each type of user "
   ]
  },
  {
   "cell_type": "code",
   "execution_count": 31,
   "id": "460c4417",
   "metadata": {},
   "outputs": [
    {
     "name": "stderr",
     "output_type": "stream",
     "text": [
      "/var/folders/88/knx7zw015qbbjy6wrxv2zrsc0000gn/T/ipykernel_2488/1614075805.py:2: FutureWarning: Indexing with multiple keys (implicitly converted to a tuple of keys) will be deprecated, use a list instead.\n",
      "  casual_df.groupby(casual_df.started_at.dt.to_period(\"M\"))['ride_id','member_casual'].count().plot(kind='line', legend=None)\n",
      "/var/folders/88/knx7zw015qbbjy6wrxv2zrsc0000gn/T/ipykernel_2488/1614075805.py:5: FutureWarning: Indexing with multiple keys (implicitly converted to a tuple of keys) will be deprecated, use a list instead.\n",
      "  member_df.groupby(member_df.started_at.dt.to_period(\"M\"))['ride_id','member_casual'].count().plot(kind='line', legend=None)\n",
      "/var/folders/88/knx7zw015qbbjy6wrxv2zrsc0000gn/T/ipykernel_2488/1614075805.py:8: FutureWarning: Indexing with multiple keys (implicitly converted to a tuple of keys) will be deprecated, use a list instead.\n",
      "  year_df.groupby(year_df.started_at.dt.to_period(\"M\"))['ride_id','member_casual'].count().plot(kind='line', legend=None)\n"
     ]
    },
    {
     "data": {
      "text/plain": [
       "Text(0.5, 1.0, 'Rides total by month 09/2021 to 08/2022')"
      ]
     },
     "execution_count": 31,
     "metadata": {},
     "output_type": "execute_result"
    },
    {
     "data": {
      "image/png": "[encoded data removed]",
      "text/plain": [
       "<Figure size 432x288 with 1 Axes>"
      ]
     },
     "metadata": {
      "needs_background": "light"
     },
     "output_type": "display_data"
    },
    {
     "data": {
      "image/png": "[encoded data removed]",
      "text/plain": [
       "<Figure size 432x288 with 1 Axes>"
      ]
     },
     "metadata": {
      "needs_background": "light"
     },
     "output_type": "display_data"
    },
    {
     "data": {
      "image/png": "[encoded data removed]",
      "text/plain": [
       "<Figure size 432x288 with 1 Axes>"
      ]
     },
     "metadata": {
      "needs_background": "light"
     },
     "output_type": "display_data"
    }
   ],
   "source": [
    "# plotting the rides by month of each type of member\n",
    "casual_df.groupby(casual_df.started_at.dt.to_period(\"M\"))['ride_id','member_casual'].count().plot(kind='line', legend=None)\n",
    "plt.title(\"Rides of casual by month 09/2021 to 08/2022\")\n",
    "\n",
    "member_df.groupby(member_df.started_at.dt.to_period(\"M\"))['ride_id','member_casual'].count().plot(kind='line', legend=None)\n",
    "plt.title(\"Rides of member by month 09/2021 to 08/2022\")\n",
    "\n",
    "year_df.groupby(year_df.started_at.dt.to_period(\"M\"))['ride_id','member_casual'].count().plot(kind='line', legend=None)\n",
    "plt.title(\"Rides total by month 09/2021 to 08/2022\")\n",
    "\n"
   ]
  },
  {
   "cell_type": "markdown",
   "id": "fc074655",
   "metadata": {},
   "source": [
    "This line graph with the total rides by month shows a lot of information, some insight we can extract from those are:  \n",
    "*We had a decline of usage when we approach to the end of the year (maybe because the winter season),  \n",
    "*January was the worst month of the last year,\n",
    "*July was the best month in the last year,  \n",
    "*The ride numbers made by members is always higher than the casual, the diference is bigger in the weak months.\n",
    "\n",
    "It's clear the usage of the bikes follows the season of the year, add data of the average temperature of the city can help us see how this correlation works.\n",
    "\n",
    " (For this study, I used data from weatherspark.com)"
   ]
  },
  {
   "cell_type": "code",
   "execution_count": 56,
   "id": "3f2c0782",
   "metadata": {},
   "outputs": [
    {
     "data": {
      "text/plain": [
       "<AxesSubplot:xlabel='Month'>"
      ]
     },
     "execution_count": 56,
     "metadata": {},
     "output_type": "execute_result"
    },
    {
     "data": {
      "image/png": "[encoded data removed]",
      "text/plain": [
       "<Figure size 432x288 with 1 Axes>"
      ]
     },
     "metadata": {
      "needs_background": "light"
     },
     "output_type": "display_data"
    }
   ],
   "source": [
    "data = {'month': ['Sep 21', 'Oct 21','Nov 21', 'Dec 21', 'Jan 22', 'Feb 22', 'Mar 22', 'Apr 22', 'May 22', 'Jun 22', 'Jul 22', 'Aug 22'], \n",
    "        'avg_temp(ºF)': [67, 55, 43, 32, 27, 30, 39, 49, 59, 70, 76, 75]}\n",
    "temp = pd.DataFrame(data)\n",
    "temp['month'] = pd.to_datetime(temp['month'], format=\"%b %y\")\n",
    "\n",
    "temp.plot(x='month', y='avg_temp(ºF)', kind='line')"
   ]
  },
  {
   "cell_type": "code",
   "execution_count": 87,
   "id": "b1e5b592",
   "metadata": {},
   "outputs": [],
   "source": [
    "# Adding the average temperature to the dataset\n",
    "for i in range(12):\n",
    "    year_df.loc[(year_df['started_at'].dt.month == temp.iloc[i]['month'].month), \"avg_temp\"] = temp.iloc[i][\"avg_temp(ºF)\"] "
   ]
  },
  {
   "cell_type": "code",
   "execution_count": 89,
   "id": "6b5c7bf0",
   "metadata": {},
   "outputs": [
    {
     "name": "stdout",
     "output_type": "stream",
     "text": [
      "DataFrame is written to CSV File successfully.\n"
     ]
    }
   ],
   "source": [
    "# saving as csv file\n",
    "year_df.to_csv(r'Year-divvy-tripdata_cleaned.csv', index=False)\n",
    "print('DataFrame is written to CSV File successfully.')\n"
   ]
  },
  {
   "cell_type": "code",
   "execution_count": null,
   "id": "9c026f65",
   "metadata": {},
   "outputs": [],
   "source": []
  },
  {
   "cell_type": "code",
   "execution_count": null,
   "id": "d1323e25",
   "metadata": {},
   "outputs": [],
   "source": []
  },
  {
   "cell_type": "code",
   "execution_count": null,
   "id": "99756af1",
   "metadata": {},
   "outputs": [],
   "source": []
  }
 ],
 "metadata": {
  "kernelspec": {
   "display_name": "Python 3 (ipykernel)",
   "language": "python",
   "name": "python3"
  },
  "language_info": {
   "codemirror_mode": {
    "name": "ipython",
    "version": 3
   },
   "file_extension": ".py",
   "mimetype": "text/x-python",
   "name": "python",
   "nbconvert_exporter": "python",
   "pygments_lexer": "ipython3",
   "version": "3.9.7"
  }
 },
 "nbformat": 4,
 "nbformat_minor": 5
}
